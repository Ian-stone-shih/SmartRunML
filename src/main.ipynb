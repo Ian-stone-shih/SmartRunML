{
 "cells": [
  {
   "cell_type": "code",
   "execution_count": 1,
   "metadata": {},
   "outputs": [
    {
     "name": "stderr",
     "output_type": "stream",
     "text": [
      "SettingWithCopyWarning: \n",
      "A value is trying to be set on a copy of a slice from a DataFrame.\n",
      "Try using .loc[row_indexer,col_indexer] = value instead\n",
      "\n",
      "See the caveats in the documentation: https://pandas.pydata.org/pandas-docs/stable/user_guide/indexing.html#returning-a-view-versus-a-copy\n",
      "SettingWithCopyWarning: \n",
      "A value is trying to be set on a copy of a slice from a DataFrame.\n",
      "Try using .loc[row_indexer,col_indexer] = value instead\n",
      "\n",
      "See the caveats in the documentation: https://pandas.pydata.org/pandas-docs/stable/user_guide/indexing.html#returning-a-view-versus-a-copy\n"
     ]
    },
    {
     "name": "stdout",
     "output_type": "stream",
     "text": [
      "Epoch 100, Loss: 23407.7031\n",
      "Epoch 200, Loss: 8614.6719\n",
      "Epoch 300, Loss: 5635.4565\n",
      "Epoch 400, Loss: 4386.0986\n",
      "Epoch 500, Loss: 3590.6663\n",
      "Epoch 600, Loss: 3046.6963\n",
      "Epoch 700, Loss: 2537.0942\n",
      "Epoch 800, Loss: 1968.5873\n",
      "Epoch 900, Loss: 1526.0275\n",
      "Epoch 1000, Loss: 1186.5764\n",
      "Epoch 1100, Loss: 933.4718\n",
      "Epoch 1200, Loss: 755.4688\n",
      "Epoch 1300, Loss: 639.8619\n",
      "Epoch 1400, Loss: 570.0161\n",
      "Epoch 1500, Loss: 522.5265\n",
      "Epoch 1600, Loss: 479.9875\n",
      "Epoch 1700, Loss: 448.5330\n",
      "Epoch 1800, Loss: 421.2514\n",
      "Epoch 1900, Loss: 397.6650\n",
      "Epoch 2000, Loss: 378.1874\n",
      "MSE: 525.7498168945312\n",
      "R2: 0.9471171498298645\n"
     ]
    }
   ],
   "source": [
    "from preprocessing import preprocess\n",
    "from train import train_model\n",
    "from sklearn.preprocessing import StandardScaler\n",
    "import numpy as np\n",
    "import pandas as pd\n",
    "import torch\n",
    "import joblib\n",
    "\n",
    "df = pd.read_csv(\"../data/Activities-6-2-2.csv\")\n",
    "X_train, X_test, y_train, y_test = preprocess(df)\n",
    "model, mse, r2 = train_model(X_train, y_train, X_test, y_test)\n",
    "\n",
    "print(\"MSE:\", mse)\n",
    "print(\"R2:\", r2)"
   ]
  },
  {
   "cell_type": "code",
   "execution_count": 3,
   "metadata": {},
   "outputs": [
    {
     "name": "stdout",
     "output_type": "stream",
     "text": [
      "Predicted: [360.82315]\n"
     ]
    }
   ],
   "source": [
    "# Make sure model is in eval mode\n",
    "model.eval()\n",
    "\n",
    "# Prepare new input\n",
    "X_new = np.array([[5, 50, 420, 30, 18.0, 35, 30]])\n",
    "scaler = joblib.load(\"scaler.save\")\n",
    "X_new_scaled = scaler.transform(X_new)\n",
    "X_new_tensor = torch.tensor(X_new_scaled, dtype=torch.float32)\n",
    "\n",
    "# Predict\n",
    "with torch.no_grad():\n",
    "    y_pred = model(X_new_tensor).numpy().flatten()\n",
    "\n",
    "print(\"Predicted:\", y_pred)"
   ]
  },
  {
   "cell_type": "code",
   "execution_count": 9,
   "metadata": {},
   "outputs": [],
   "source": [
    "from map import geocode_address\n",
    "from geopy.geocoders import Nominatim\n",
    "\n",
    "lon, lat = geocode_address(\"Bischofstraße 15, Aachen, Germany\")"
   ]
  },
  {
   "cell_type": "code",
   "execution_count": 10,
   "metadata": {},
   "outputs": [
    {
     "name": "stdout",
     "output_type": "stream",
     "text": [
      "eyJvcmciOiI1YjNjZTM1OTc4NTExMTAwMDFjZjYyNDgiLCJpZCI6IjEzNWMxYTFkMTA1YjRmMTM4NjVlNzM3OTZhOGQwMTgyIiwiaCI6Im11cm11cjY0In0=\n"
     ]
    }
   ],
   "source": [
    "from dotenv import load_dotenv\n",
    "import os\n",
    "\n",
    "load_dotenv()  # load .env file\n",
    "\n",
    "ORS_API_KEY = os.environ[\"ORS_API_KEY\"]\n",
    "print(ORS_API_KEY)"
   ]
  },
  {
   "cell_type": "code",
   "execution_count": 12,
   "metadata": {},
   "outputs": [
    {
     "data": {
      "text/html": [
       "<div style=\"width:100%;\"><div style=\"position:relative;width:100%;height:0;padding-bottom:60%;\"><span style=\"color:#565656\">Make this Notebook Trusted to load map: File -> Trust Notebook</span><iframe srcdoc=\"&lt;!DOCTYPE html&gt;\n",
       "&lt;html&gt;\n",
       "&lt;head&gt;\n",
       "    \n",
       "    &lt;meta http-equiv=&quot;content-type&quot; content=&quot;text/html; charset=UTF-8&quot; /&gt;\n",
       "    &lt;script src=&quot;https://cdn.jsdelivr.net/npm/leaflet@1.9.3/dist/leaflet.js&quot;&gt;&lt;/script&gt;\n",
       "    &lt;script src=&quot;https://code.jquery.com/jquery-3.7.1.min.js&quot;&gt;&lt;/script&gt;\n",
       "    &lt;script src=&quot;https://cdn.jsdelivr.net/npm/bootstrap@5.2.2/dist/js/bootstrap.bundle.min.js&quot;&gt;&lt;/script&gt;\n",
       "    &lt;script src=&quot;https://cdnjs.cloudflare.com/ajax/libs/Leaflet.awesome-markers/2.0.2/leaflet.awesome-markers.js&quot;&gt;&lt;/script&gt;\n",
       "    &lt;link rel=&quot;stylesheet&quot; href=&quot;https://cdn.jsdelivr.net/npm/leaflet@1.9.3/dist/leaflet.css&quot;/&gt;\n",
       "    &lt;link rel=&quot;stylesheet&quot; href=&quot;https://cdn.jsdelivr.net/npm/bootstrap@5.2.2/dist/css/bootstrap.min.css&quot;/&gt;\n",
       "    &lt;link rel=&quot;stylesheet&quot; href=&quot;https://netdna.bootstrapcdn.com/bootstrap/3.0.0/css/bootstrap-glyphicons.css&quot;/&gt;\n",
       "    &lt;link rel=&quot;stylesheet&quot; href=&quot;https://cdn.jsdelivr.net/npm/@fortawesome/fontawesome-free@6.2.0/css/all.min.css&quot;/&gt;\n",
       "    &lt;link rel=&quot;stylesheet&quot; href=&quot;https://cdnjs.cloudflare.com/ajax/libs/Leaflet.awesome-markers/2.0.2/leaflet.awesome-markers.css&quot;/&gt;\n",
       "    &lt;link rel=&quot;stylesheet&quot; href=&quot;https://cdn.jsdelivr.net/gh/python-visualization/folium/folium/templates/leaflet.awesome.rotate.min.css&quot;/&gt;\n",
       "    \n",
       "            &lt;meta name=&quot;viewport&quot; content=&quot;width=device-width,\n",
       "                initial-scale=1.0, maximum-scale=1.0, user-scalable=no&quot; /&gt;\n",
       "            &lt;style&gt;\n",
       "                #map_a49406315fd62b55bb2540c2ce8449a8 {\n",
       "                    position: relative;\n",
       "                    width: 100.0%;\n",
       "                    height: 100.0%;\n",
       "                    left: 0.0%;\n",
       "                    top: 0.0%;\n",
       "                }\n",
       "                .leaflet-container { font-size: 1rem; }\n",
       "            &lt;/style&gt;\n",
       "\n",
       "            &lt;style&gt;html, body {\n",
       "                width: 100%;\n",
       "                height: 100%;\n",
       "                margin: 0;\n",
       "                padding: 0;\n",
       "            }\n",
       "            &lt;/style&gt;\n",
       "\n",
       "            &lt;style&gt;#map {\n",
       "                position:absolute;\n",
       "                top:0;\n",
       "                bottom:0;\n",
       "                right:0;\n",
       "                left:0;\n",
       "                }\n",
       "            &lt;/style&gt;\n",
       "\n",
       "            &lt;script&gt;\n",
       "                L_NO_TOUCH = false;\n",
       "                L_DISABLE_3D = false;\n",
       "            &lt;/script&gt;\n",
       "\n",
       "        \n",
       "&lt;/head&gt;\n",
       "&lt;body&gt;\n",
       "    \n",
       "    \n",
       "            &lt;div class=&quot;folium-map&quot; id=&quot;map_a49406315fd62b55bb2540c2ce8449a8&quot; &gt;&lt;/div&gt;\n",
       "        \n",
       "&lt;/body&gt;\n",
       "&lt;script&gt;\n",
       "    \n",
       "    \n",
       "            var map_a49406315fd62b55bb2540c2ce8449a8 = L.map(\n",
       "                &quot;map_a49406315fd62b55bb2540c2ce8449a8&quot;,\n",
       "                {\n",
       "                    center: [50.77847, 6.10727],\n",
       "                    crs: L.CRS.EPSG3857,\n",
       "                    ...{\n",
       "  &quot;zoom&quot;: 15,\n",
       "  &quot;zoomControl&quot;: true,\n",
       "  &quot;preferCanvas&quot;: false,\n",
       "}\n",
       "\n",
       "                }\n",
       "            );\n",
       "\n",
       "            \n",
       "\n",
       "        \n",
       "    \n",
       "            var tile_layer_1e299640f35b899422d9cd1ab9ff8dce = L.tileLayer(\n",
       "                &quot;https://tile.openstreetmap.org/{z}/{x}/{y}.png&quot;,\n",
       "                {\n",
       "  &quot;minZoom&quot;: 0,\n",
       "  &quot;maxZoom&quot;: 19,\n",
       "  &quot;maxNativeZoom&quot;: 19,\n",
       "  &quot;noWrap&quot;: false,\n",
       "  &quot;attribution&quot;: &quot;\\u0026copy; \\u003ca href=\\&quot;https://www.openstreetmap.org/copyright\\&quot;\\u003eOpenStreetMap\\u003c/a\\u003e contributors&quot;,\n",
       "  &quot;subdomains&quot;: &quot;abc&quot;,\n",
       "  &quot;detectRetina&quot;: false,\n",
       "  &quot;tms&quot;: false,\n",
       "  &quot;opacity&quot;: 1,\n",
       "}\n",
       "\n",
       "            );\n",
       "        \n",
       "    \n",
       "            tile_layer_1e299640f35b899422d9cd1ab9ff8dce.addTo(map_a49406315fd62b55bb2540c2ce8449a8);\n",
       "        \n",
       "    \n",
       "            var poly_line_dcbdcdb379898c50826dcab105f9aa94 = L.polyline(\n",
       "                [[50.77847, 6.10727], [50.778599, 6.107125], [50.779014, 6.10809], [50.779296, 6.108723], [50.779456, 6.109074], [50.779428, 6.109107], [50.779304, 6.109249], [50.779117, 6.109458], [50.778859, 6.109756], [50.778537, 6.110093], [50.778138, 6.110465], [50.777387, 6.111166], [50.776651, 6.111745], [50.776204, 6.11212], [50.776096, 6.112208], [50.776145, 6.112381], [50.776131, 6.112479], [50.776121, 6.112643], [50.776024, 6.112618], [50.776, 6.112631], [50.775857, 6.11282], [50.774958, 6.114134], [50.774737, 6.114464], [50.774528, 6.114765], [50.774487, 6.114825], [50.774423, 6.114915], [50.773978, 6.115538], [50.773958, 6.115603], [50.773931, 6.116212], [50.773778, 6.116208], [50.773743, 6.116206], [50.773703, 6.116201], [50.773513, 6.116184], [50.773476, 6.11627], [50.773208, 6.116676], [50.773118, 6.116799], [50.773049, 6.116901], [50.772693, 6.117397], [50.772422, 6.117765], [50.772349, 6.117866], [50.771673, 6.118832], [50.771113, 6.117708], [50.770586, 6.116664], [50.770512, 6.1167], [50.770454, 6.116622], [50.770433, 6.116674], [50.770387, 6.116585], [50.770406, 6.116552], [50.770363, 6.116455], [50.770285, 6.116589], [50.770119, 6.116846], [50.770069, 6.116926], [50.769686, 6.116155], [50.7695, 6.115779], [50.769307, 6.115348], [50.769232, 6.115212], [50.768818, 6.114915], [50.768737, 6.114922], [50.768672, 6.114956], [50.76857, 6.115093], [50.768235, 6.115844], [50.768176, 6.116017], [50.768041, 6.115913], [50.767967, 6.115862], [50.767594, 6.115628], [50.767286, 6.115445], [50.767085, 6.115806], [50.766663, 6.116388], [50.766376, 6.116785], [50.765644, 6.117765], [50.765867, 6.118196], [50.766172, 6.118757], [50.765615, 6.119607], [50.765494, 6.119791], [50.765386, 6.119976], [50.765169, 6.120344], [50.764992, 6.120594], [50.764876, 6.120447], [50.764781, 6.120298], [50.764785, 6.120077], [50.7646, 6.119794], [50.764474, 6.119595], [50.764765, 6.119081], [50.764779, 6.118853], [50.764722, 6.118782], [50.763813, 6.117566], [50.763988, 6.117101], [50.764261, 6.116407], [50.764323, 6.116284], [50.764573, 6.115875], [50.765002, 6.115256], [50.765261, 6.114834], [50.765493, 6.114534], [50.765685, 6.114301], [50.765907, 6.11408], [50.76593, 6.114048], [50.766114, 6.113861], [50.766256, 6.113782], [50.76653, 6.113721], [50.767069, 6.113757], [50.767218, 6.11377], [50.76746, 6.113793], [50.767607, 6.113782], [50.767753, 6.113696], [50.767885, 6.113537], [50.76796, 6.113415], [50.768106, 6.113179], [50.768324, 6.112824], [50.768628, 6.112158], [50.769182, 6.110844], [50.76925, 6.110619], [50.769292, 6.110501], [50.76946, 6.110197], [50.769406, 6.110037], [50.769184, 6.108331], [50.769257, 6.108307], [50.76924, 6.108177], [50.770205, 6.107867], [50.77019, 6.107751], [50.770255, 6.107743], [50.770239, 6.107615], [50.77028, 6.107604], [50.770287, 6.107421], [50.76999, 6.105145], [50.770067, 6.105122], [50.77005, 6.104982], [50.771367, 6.104568], [50.771603, 6.104414], [50.771396, 6.103707], [50.771441, 6.103652], [50.771474, 6.103524], [50.771466, 6.103447], [50.772171, 6.103083], [50.772974, 6.102665], [50.773254, 6.102667], [50.773622, 6.102694], [50.773979, 6.10272], [50.774473, 6.102752], [50.774932, 6.102779], [50.775902, 6.102854], [50.776748, 6.102878], [50.777154, 6.102886], [50.777038, 6.103397], [50.777152, 6.103453], [50.777135, 6.103617], [50.777381, 6.104018], [50.777346, 6.104238], [50.777881, 6.105254], [50.777873, 6.105313], [50.778351, 6.106395], [50.778583, 6.106922], [50.778599, 6.107125], [50.77847, 6.10727]],\n",
       "                {&quot;bubblingMouseEvents&quot;: true, &quot;color&quot;: &quot;blue&quot;, &quot;dashArray&quot;: null, &quot;dashOffset&quot;: null, &quot;fill&quot;: false, &quot;fillColor&quot;: &quot;blue&quot;, &quot;fillOpacity&quot;: 0.2, &quot;fillRule&quot;: &quot;evenodd&quot;, &quot;lineCap&quot;: &quot;round&quot;, &quot;lineJoin&quot;: &quot;round&quot;, &quot;noClip&quot;: false, &quot;opacity&quot;: 0.8, &quot;smoothFactor&quot;: 1.0, &quot;stroke&quot;: true, &quot;weight&quot;: 4}\n",
       "            ).addTo(map_a49406315fd62b55bb2540c2ce8449a8);\n",
       "        \n",
       "    \n",
       "            var marker_52f095bc45ec694fa9c18b97cb7a1d33 = L.marker(\n",
       "                [50.77847, 6.10727],\n",
       "                {\n",
       "}\n",
       "            ).addTo(map_a49406315fd62b55bb2540c2ce8449a8);\n",
       "        \n",
       "    \n",
       "            marker_52f095bc45ec694fa9c18b97cb7a1d33.bindTooltip(\n",
       "                `&lt;div&gt;\n",
       "                     Start\n",
       "                 &lt;/div&gt;`,\n",
       "                {\n",
       "  &quot;sticky&quot;: true,\n",
       "}\n",
       "            );\n",
       "        \n",
       "&lt;/script&gt;\n",
       "&lt;/html&gt;\" style=\"position:absolute;width:100%;height:100%;left:0;top:0;border:none !important;\" allowfullscreen webkitallowfullscreen mozallowfullscreen></iframe></div></div>"
      ],
      "text/plain": [
       "<folium.folium.Map at 0x12ddfd940>"
      ]
     },
     "execution_count": 12,
     "metadata": {},
     "output_type": "execute_result"
    }
   ],
   "source": [
    "from map import route_plan\n",
    "\n",
    "coordinates, m = route_plan(ORS_API_KEY, lon, lat)\n",
    "m"
   ]
  },
  {
   "cell_type": "code",
   "execution_count": 7,
   "metadata": {},
   "outputs": [
    {
     "data": {
      "image/png": "[encoded data removed]",
      "text/plain": [
       "<Figure size 800x400 with 1 Axes>"
      ]
     },
     "metadata": {},
     "output_type": "display_data"
    },
    {
     "ename": "ValueError",
     "evalue": "too many values to unpack (expected 2)",
     "output_type": "error",
     "traceback": [
      "\u001b[31m---------------------------------------------------------------------------\u001b[39m",
      "\u001b[31mValueError\u001b[39m                                Traceback (most recent call last)",
      "\u001b[36mCell\u001b[39m\u001b[36m \u001b[39m\u001b[32mIn[7]\u001b[39m\u001b[32m, line 4\u001b[39m\n\u001b[32m      1\u001b[39m \u001b[38;5;28;01mfrom\u001b[39;00m\u001b[38;5;250m \u001b[39m\u001b[34;01mmap\u001b[39;00m\u001b[38;5;250m \u001b[39m\u001b[38;5;28;01mimport\u001b[39;00m elevation\n\u001b[32m      2\u001b[39m \u001b[38;5;28;01mimport\u001b[39;00m\u001b[38;5;250m \u001b[39m\u001b[34;01mmatplotlib\u001b[39;00m\u001b[34;01m.\u001b[39;00m\u001b[34;01mpyplot\u001b[39;00m\u001b[38;5;250m \u001b[39m\u001b[38;5;28;01mas\u001b[39;00m\u001b[38;5;250m \u001b[39m\u001b[34;01mplt\u001b[39;00m\n\u001b[32m----> \u001b[39m\u001b[32m4\u001b[39m elevations, distances = elevation(coordinates)\n\u001b[32m      5\u001b[39m \u001b[38;5;66;03m# Plot\u001b[39;00m\n\u001b[32m      6\u001b[39m plt.figure(figsize=(\u001b[32m8\u001b[39m, \u001b[32m4\u001b[39m))\n",
      "\u001b[31mValueError\u001b[39m: too many values to unpack (expected 2)"
     ]
    }
   ],
   "source": [
    "from map import elevation\n",
    "import matplotlib.pyplot as plt\n",
    "\n",
    "elevations, distances = elevation(coordinates)\n",
    "# Plot\n",
    "plt.figure(figsize=(8, 4))\n",
    "plt.plot(distances, elevations, marker=\"o\")\n",
    "plt.xlabel(\"Distance along route (meters)\")\n",
    "plt.ylabel(\"Elevation (meters)\")\n",
    "plt.title(\"Elevation Profile\")\n",
    "plt.grid(True)\n",
    "plt.tight_layout()\n",
    "plt.show()"
   ]
  },
  {
   "cell_type": "code",
   "execution_count": 6,
   "metadata": {},
   "outputs": [
    {
     "name": "stdout",
     "output_type": "stream",
     "text": [
      "Total ascent: 87.0\n",
      "Total descent: 87.0\n"
     ]
    }
   ],
   "source": [
    "from map import des_asc\n",
    "\n",
    "total_ascent, total_descent = des_asc(elevations)\n",
    "print(\"Total ascent:\", total_ascent)\n",
    "print(\"Total descent:\", total_descent)"
   ]
  }
 ],
 "metadata": {
  "kernelspec": {
   "display_name": ".venv",
   "language": "python",
   "name": "python3"
  },
  "language_info": {
   "codemirror_mode": {
    "name": "ipython",
    "version": 3
   },
   "file_extension": ".py",
   "mimetype": "text/x-python",
   "name": "python",
   "nbconvert_exporter": "python",
   "pygments_lexer": "ipython3",
   "version": "3.12.9"
  }
 },
 "nbformat": 4,
 "nbformat_minor": 2
}
