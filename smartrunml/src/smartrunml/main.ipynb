{
 "cells": [
  {
   "cell_type": "code",
   "execution_count": null,
   "metadata": {},
   "outputs": [
    {
     "name": "stdout",
     "output_type": "stream",
     "text": [
      "   Distance   Steps  Calories  Total Ascent  Total Descent  Avg Pace\n",
      "0      5.01  4320.0     277.0          22.0           20.0       319\n",
      "1      5.00  4618.0     298.0          40.0           38.0       343\n",
      "2      5.01  4514.0     292.0          49.0           48.0       337\n",
      "3      5.00  4818.0     294.0          52.0           49.0       359\n",
      "4      5.01  4234.0     281.0           5.0            2.0       311\n",
      "   Distance   Steps  Calories  Total Ascent  Total Descent  Avg Pace\n",
      "0      5.01  4320.0     277.0          22.0           20.0       319\n",
      "1      5.00  4618.0     298.0          40.0           38.0       343\n",
      "2      5.01  4514.0     292.0          49.0           48.0       337\n",
      "3      5.00  4818.0     294.0          52.0           49.0       359\n",
      "4      5.01  4234.0     281.0           5.0            2.0       311\n",
      "Epoch 50, Loss: 220532.3750\n",
      "Epoch 100, Loss: 217208.3750\n",
      "Epoch 150, Loss: 208292.0781\n",
      "Epoch 200, Loss: 190755.5469\n",
      "MSE: 91782.5546875\n",
      "R2: -309.32781982421875\n"
     ]
    }
   ],
   "source": [
    "from preprocessing import load_and_preprocess\n",
    "from train import train_model\n",
    "\n",
    "\n",
    "X_train, X_test, y_train, y_test = load_and_preprocess(\"../../data/Activities-6.csv\")\n",
    "model, mse, r2 = train_model(X_train, y_train, X_test, y_test)\n",
    "\n",
    "print(\"MSE:\", mse)\n",
    "print(\"R2:\", r2)"
   ]
  }
 ],
 "metadata": {
  "kernelspec": {
   "display_name": "base",
   "language": "python",
   "name": "python3"
  },
  "language_info": {
   "codemirror_mode": {
    "name": "ipython",
    "version": 3
   },
   "file_extension": ".py",
   "mimetype": "text/x-python",
   "name": "python",
   "nbconvert_exporter": "python",
   "pygments_lexer": "ipython3",
   "version": "3.12.9"
  }
 },
 "nbformat": 4,
 "nbformat_minor": 2
}
