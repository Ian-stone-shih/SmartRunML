{
 "cells": [
  {
   "cell_type": "code",
   "execution_count": 1,
   "metadata": {},
   "outputs": [
    {
     "name": "stdout",
     "output_type": "stream",
     "text": [
      "   Distance  Body Battery  Sleep  stress  Temperature  Total Ascent  \\\n",
      "2      5.00          77.0  441.0    13.0         22.7          40.0   \n",
      "3      5.01          84.0  486.0    14.0         18.1          49.0   \n",
      "4      5.00          78.0  457.0    15.0         11.6          52.0   \n",
      "7      5.04          70.0  417.0    35.0         22.7          10.0   \n",
      "8      5.01          62.0  391.0    17.0         11.7          25.0   \n",
      "\n",
      "   Total Descent  Avg Pace  \n",
      "2           38.0       343  \n",
      "3           48.0       337  \n",
      "4           49.0       359  \n",
      "7            7.0       320  \n",
      "8           25.0       321  \n",
      "Epoch 50, Loss: 64138.6914\n",
      "Epoch 100, Loss: 4882.9492\n",
      "Epoch 150, Loss: 2055.4041\n",
      "Epoch 200, Loss: 1060.1938\n",
      "Epoch 250, Loss: 669.9996\n",
      "Epoch 300, Loss: 462.7645\n",
      "Epoch 350, Loss: 328.7610\n",
      "Epoch 400, Loss: 236.6211\n",
      "MSE: 184842.734375\n",
      "R2: -1.2015161514282227\n"
     ]
    }
   ],
   "source": [
    "from preprocessing import load_and_preprocess\n",
    "from train import train_model\n",
    "\n",
    "\n",
    "X_train, X_test, y_train, y_test = load_and_preprocess(\n",
    "    \"../../data/Activities-6-2-2.csv\"\n",
    ")\n",
    "model, mse, r2 = train_model(X_train, y_train, X_test, y_test)\n",
    "\n",
    "print(\"MSE:\", mse)\n",
    "print(\"R2:\", r2)"
   ]
  }
 ],
 "metadata": {
  "kernelspec": {
   "display_name": "base",
   "language": "python",
   "name": "python3"
  },
  "language_info": {
   "codemirror_mode": {
    "name": "ipython",
    "version": 3
   },
   "file_extension": ".py",
   "mimetype": "text/x-python",
   "name": "python",
   "nbconvert_exporter": "python",
   "pygments_lexer": "ipython3",
   "version": "3.12.9"
  }
 },
 "nbformat": 4,
 "nbformat_minor": 2
}
